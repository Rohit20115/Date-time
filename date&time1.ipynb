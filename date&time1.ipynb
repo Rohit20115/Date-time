{
 "cells": [
  {
   "cell_type": "code",
   "execution_count": 2,
   "id": "57cabb44",
   "metadata": {},
   "outputs": [
    {
     "name": "stdout",
     "output_type": "stream",
     "text": [
      "2024-01-06 21:17:43.376786\n",
      "21:17:43.376786\n",
      "2024-01-06\n"
     ]
    }
   ],
   "source": [
    "#print current date and time in python.\n",
    "\n",
    "import datetime\n",
    "\n",
    "print(datetime.datetime.now())\n",
    "\n",
    "print(datetime.datetime.now().time())\n",
    "\n",
    "print(datetime.datetime.now().date())"
   ]
  }
 ],
 "metadata": {
  "kernelspec": {
   "display_name": "Python 3 (ipykernel)",
   "language": "python",
   "name": "python3"
  },
  "language_info": {
   "codemirror_mode": {
    "name": "ipython",
    "version": 3
   },
   "file_extension": ".py",
   "mimetype": "text/x-python",
   "name": "python",
   "nbconvert_exporter": "python",
   "pygments_lexer": "ipython3",
   "version": "3.11.4"
  }
 },
 "nbformat": 4,
 "nbformat_minor": 5
}
